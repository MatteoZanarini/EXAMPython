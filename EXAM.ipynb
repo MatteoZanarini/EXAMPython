{
 "cells": [
  {
   "cell_type": "code",
   "execution_count": 9,
   "id": "5ce8bbe5-10c8-4076-8d18-6486b9aa6233",
   "metadata": {},
   "outputs": [],
   "source": [
    "import os"
   ]
  },
  {
   "cell_type": "code",
   "execution_count": 3,
   "id": "206f541b-7f6b-4571-b63c-d54165413f6b",
   "metadata": {},
   "outputs": [
    {
     "data": {
      "text/plain": [
       "'C:\\\\Users\\\\matza'"
      ]
     },
     "execution_count": 3,
     "metadata": {},
     "output_type": "execute_result"
    }
   ],
   "source": [
    "os.getcwd()"
   ]
  },
  {
   "cell_type": "code",
   "execution_count": 11,
   "id": "029bcf43-3f33-467e-90e1-825acb7d2371",
   "metadata": {},
   "outputs": [
    {
     "name": "stdout",
     "output_type": "stream",
     "text": [
      "['data/PFE.csv', 'data/HST.csv', 'data/CPRT.csv', 'data/SJM.csv', 'data/GIS.csv']\n"
     ]
    }
   ],
   "source": [
    "import pandas as pd\n",
    "import zipfile\n",
    "\n",
    "with zipfile.ZipFile('15158357.zip') as z:\n",
    "    print(z.namelist())"
   ]
  },
  {
   "cell_type": "code",
   "execution_count": 13,
   "id": "c99564fd-d96d-43f6-a1cb-95695ec23079",
   "metadata": {},
   "outputs": [],
   "source": [
    "with zipfile.ZipFile('15158357.zip') as z:\n",
    "    with z.open('data/PFE.csv') as f:\n",
    "        df_PFE = pd.read_csv(f)\n",
    "    with z.open('data/HST.csv') as f:\n",
    "        df_HST = pd.read_csv(f)\n",
    "    with z.open('data/CPRT.csv') as f:\n",
    "        df_CPRT = pd.read_csv(f)\n",
    "    with z.open('data/SJM.csv') as f:\n",
    "        df_SJM = pd.read_csv(f)\n",
    "    with z.open('data/GIS.csv') as f:\n",
    "        df_GIS = pd.read_csv(f)"
   ]
  },
  {
   "cell_type": "code",
   "execution_count": 23,
   "id": "ae287286-57a4-4526-a163-070071901528",
   "metadata": {},
   "outputs": [],
   "source": [
    "import datetime\n",
    "from datetime import datetime\n",
    "df_PFE['Date'] = pd.to_datetime(df_PFE['Date'])\n",
    "df_HST['Date'] = pd.to_datetime(df_HST['Date'])\n",
    "df_CPRT['Date'] = pd.to_datetime(df_CPRT['Date'])\n",
    "df_SJM['Date'] = pd.to_datetime(df_SJM['Date'])\n",
    "df_GIS['Date'] = pd.to_datetime(df_GIS['Date'])"
   ]
  },
  {
   "cell_type": "code",
   "execution_count": 28,
   "id": "7141cb65-a420-4a46-b482-8ff0df62f4c2",
   "metadata": {},
   "outputs": [
    {
     "name": "stdout",
     "output_type": "stream",
     "text": [
      "<class 'pandas.core.frame.DataFrame'>\n",
      "RangeIndex: 1510 entries, 0 to 1509\n",
      "Data columns (total 8 columns):\n",
      " #   Column        Non-Null Count  Dtype         \n",
      "---  ------        --------------  -----         \n",
      " 0   Date          1510 non-null   datetime64[ns]\n",
      " 1   Open          1510 non-null   float64       \n",
      " 2   High          1510 non-null   float64       \n",
      " 3   Low           1510 non-null   float64       \n",
      " 4   Close         1510 non-null   float64       \n",
      " 5   Volume        1510 non-null   int64         \n",
      " 6   Dividends     1510 non-null   float64       \n",
      " 7   Stock Splits  1510 non-null   float64       \n",
      "dtypes: datetime64[ns](1), float64(6), int64(1)\n",
      "memory usage: 94.5 KB\n"
     ]
    }
   ],
   "source": [
    "df_PFE.info()"
   ]
  },
  {
   "cell_type": "markdown",
   "id": "8b0fe15f-fc07-47b9-816b-f16f474d51ff",
   "metadata": {},
   "source": [
    "1.1"
   ]
  },
  {
   "cell_type": "code",
   "execution_count": 56,
   "id": "ebf0cf35-beaf-4c95-bc85-f690b5198013",
   "metadata": {},
   "outputs": [
    {
     "data": {
      "text/plain": [
       "1490"
      ]
     },
     "execution_count": 56,
     "metadata": {},
     "output_type": "execute_result"
    }
   ],
   "source": [
    "sum(df_PFE['Open']!=df_PFE['Close'])"
   ]
  },
  {
   "cell_type": "code",
   "execution_count": 58,
   "id": "cc73b74e-12b3-4164-94e0-503419625fb6",
   "metadata": {},
   "outputs": [
    {
     "data": {
      "text/plain": [
       "1483"
      ]
     },
     "execution_count": 58,
     "metadata": {},
     "output_type": "execute_result"
    }
   ],
   "source": [
    "sum(df_HST['Open']!=df_HST['Close'])"
   ]
  },
  {
   "cell_type": "code",
   "execution_count": 60,
   "id": "857aa807-af54-4ead-971c-92c008c79096",
   "metadata": {},
   "outputs": [
    {
     "data": {
      "text/plain": [
       "1505"
      ]
     },
     "execution_count": 60,
     "metadata": {},
     "output_type": "execute_result"
    }
   ],
   "source": [
    "sum(df_CPRT['Open']!=df_CPRT['Close'])"
   ]
  },
  {
   "cell_type": "code",
   "execution_count": 68,
   "id": "3ab5d010-f2a6-4e9d-a66c-ca25f23401da",
   "metadata": {},
   "outputs": [
    {
     "data": {
      "text/plain": [
       "1506"
      ]
     },
     "execution_count": 68,
     "metadata": {},
     "output_type": "execute_result"
    }
   ],
   "source": [
    "sum(df_SJM['Open']!=df_SJM['Close'])"
   ]
  },
  {
   "cell_type": "code",
   "execution_count": 72,
   "id": "e3acb39f-acab-4b30-909d-6e81e2dbda5b",
   "metadata": {},
   "outputs": [
    {
     "data": {
      "text/plain": [
       "1500"
      ]
     },
     "execution_count": 72,
     "metadata": {},
     "output_type": "execute_result"
    }
   ],
   "source": [
    "sum(df_GIS['Open']!=df_GIS['Close'])"
   ]
  },
  {
   "cell_type": "markdown",
   "id": "0bab6bf1-30ca-4c1f-ab5c-a97bc3cb3732",
   "metadata": {},
   "source": [
    "There isn't any company that has no difference between the Opne and the Close columns"
   ]
  },
  {
   "cell_type": "markdown",
   "id": "96272000-e5b1-45aa-bb7f-bee31b2b4a36",
   "metadata": {},
   "source": [
    "1.2"
   ]
  },
  {
   "cell_type": "code",
   "execution_count": 86,
   "id": "da5937b8-e9b3-4738-be83-89bafe1d700e",
   "metadata": {},
   "outputs": [
    {
     "data": {
      "text/plain": [
       "(21.37, 53.48)"
      ]
     },
     "execution_count": 86,
     "metadata": {},
     "output_type": "execute_result"
    }
   ],
   "source": [
    "df_PFE.Close.min(), df_PFE.Close.max()"
   ]
  },
  {
   "cell_type": "code",
   "execution_count": 98,
   "id": "2da018bb-8643-4fa4-93b0-15fe6c790a05",
   "metadata": {},
   "outputs": [
    {
     "data": {
      "text/plain": [
       "(6.957, 39.775)"
      ]
     },
     "execution_count": 98,
     "metadata": {},
     "output_type": "execute_result"
    }
   ],
   "source": [
    "df_CPRT.Close.min(), df_CPRT.Close.max()"
   ]
  },
  {
   "cell_type": "code",
   "execution_count": 90,
   "id": "2beebc7f-80e5-46b8-9ebf-ca36308dc167",
   "metadata": {},
   "outputs": [
    {
     "data": {
      "text/plain": [
       "(8.07, 18.948)"
      ]
     },
     "execution_count": 90,
     "metadata": {},
     "output_type": "execute_result"
    }
   ],
   "source": [
    "df_HST.Close.min(), df_HST.Close.max()"
   ]
  },
  {
   "cell_type": "code",
   "execution_count": 92,
   "id": "21f7f3a1-54cf-45e0-9b47-b37b3acc089e",
   "metadata": {},
   "outputs": [
    {
     "data": {
      "text/plain": [
       "(77.241, 149.526)"
      ]
     },
     "execution_count": 92,
     "metadata": {},
     "output_type": "execute_result"
    }
   ],
   "source": [
    "df_SJM.Close.min(), df_SJM.Close.max()"
   ]
  },
  {
   "cell_type": "code",
   "execution_count": 94,
   "id": "ed2ac9e2-fb34-49fe-b7fa-8844f2afad90",
   "metadata": {},
   "outputs": [
    {
     "data": {
      "text/plain": [
       "(29.988, 82.008)"
      ]
     },
     "execution_count": 94,
     "metadata": {},
     "output_type": "execute_result"
    }
   ],
   "source": [
    "df_GIS.Close.min(), df_GIS.Close.max()"
   ]
  },
  {
   "cell_type": "markdown",
   "id": "2a0db235-1a02-485b-8540-343658d6a3ab",
   "metadata": {},
   "source": [
    "1.3"
   ]
  },
  {
   "cell_type": "code",
   "execution_count": 117,
   "id": "ee650699-86c3-40a1-a44c-5e33d06a98f0",
   "metadata": {},
   "outputs": [],
   "source": [
    "import numpy as np\n",
    "def averageLog(df):\n",
    "    closeLog = np.log10(df['Close'])\n",
    "    min = closeLog.min()\n",
    "    max = closeLog.max()\n",
    "    mean = closeLog.mean()\n",
    "    median = closeLog.median()\n",
    "    \n",
    "    print(f\"min: {min}, max: {max}, mean: {mean}, median: {median}\")"
   ]
  },
  {
   "cell_type": "code",
   "execution_count": 119,
   "id": "fe6d78fa-e95c-4486-99ae-19961472b7b9",
   "metadata": {},
   "outputs": [
    {
     "name": "stdout",
     "output_type": "stream",
     "text": [
      "min: 1.3298045221640695, max: 1.7281913985899466, mean: 1.4941311683555532, median: 1.4808258593292294\n"
     ]
    }
   ],
   "source": [
    "averageLog(df_PFE)"
   ]
  },
  {
   "cell_type": "code",
   "execution_count": 121,
   "id": "073d088d-337d-4e7f-ba1a-5aac3ed8a26c",
   "metadata": {},
   "outputs": [
    {
     "name": "stdout",
     "output_type": "stream",
     "text": [
      "min: 0.8424220033576498, max: 1.5996101883186191, mean: 1.2731464104267232, median: 1.31318149045019\n"
     ]
    }
   ],
   "source": [
    "averageLog(df_CPRT)"
   ]
  },
  {
   "cell_type": "code",
   "execution_count": 123,
   "id": "9605268f-e72a-4463-abd8-d1340020ef96",
   "metadata": {},
   "outputs": [
    {
     "name": "stdout",
     "output_type": "stream",
     "text": [
      "min: 0.9068735347220704, max: 1.277563376055919, mean: 1.1606135679404694, median: 1.1761925707972238\n"
     ]
    }
   ],
   "source": [
    "averageLog(df_HST)"
   ]
  },
  {
   "cell_type": "code",
   "execution_count": 127,
   "id": "d209a70f-7977-4df5-a2a7-138f99924b0a",
   "metadata": {},
   "outputs": [
    {
     "name": "stdout",
     "output_type": "stream",
     "text": [
      "min: 1.8878478877338536, max: 2.174716715568543, mean: 2.010543182921057, median: 2.002455494600568\n"
     ]
    }
   ],
   "source": [
    "averageLog(df_SJM)"
   ]
  },
  {
   "cell_type": "code",
   "execution_count": 129,
   "id": "e8cba6fd-b831-4747-ba69-18fda4b14d9f",
   "metadata": {},
   "outputs": [
    {
     "name": "stdout",
     "output_type": "stream",
     "text": [
      "min: 1.4769475021740748, max: 1.9138562205103689, mean: 1.686027935228122, median: 1.6670745295482243\n"
     ]
    }
   ],
   "source": [
    "averageLog(df_GIS)"
   ]
  },
  {
   "cell_type": "markdown",
   "id": "30e7f4c6-c8e9-47ee-9481-f5750549696b",
   "metadata": {},
   "source": [
    "1.4"
   ]
  },
  {
   "cell_type": "code",
   "execution_count": 154,
   "id": "9a3132ea-341d-4c73-92f5-c9de7c466649",
   "metadata": {},
   "outputs": [],
   "source": [
    "def highestLossGain(df):\n",
    "    df.set_index(\"Date\")\n",
    "    df[\"Perc_diff\"] = (df[\"Close\"] - df[\"Open\"])/df[\"Open\"]\n",
    "    idxmax = abs(df[\"Perc_diff\"]).idxmax()\n",
    "\n",
    "    return df.loc[idxmax][\"Perc_diff\"]"
   ]
  },
  {
   "cell_type": "code",
   "execution_count": 156,
   "id": "b2d2bf77-9172-4d65-a8fd-8be742a2bffd",
   "metadata": {},
   "outputs": [
    {
     "data": {
      "text/plain": [
       "-0.06462976276060395"
      ]
     },
     "execution_count": 156,
     "metadata": {},
     "output_type": "execute_result"
    }
   ],
   "source": [
    "highestLossGain(df_PFE)"
   ]
  },
  {
   "cell_type": "code",
   "execution_count": 158,
   "id": "baa23e2e-e17b-4518-a031-ca9e36868f86",
   "metadata": {},
   "outputs": [
    {
     "data": {
      "text/plain": [
       "-0.1585720680393912"
      ]
     },
     "execution_count": 158,
     "metadata": {},
     "output_type": "execute_result"
    }
   ],
   "source": [
    "highestLossGain(df_CPRT)"
   ]
  },
  {
   "cell_type": "code",
   "execution_count": 160,
   "id": "bd148133-c1ca-4c02-829b-0441f5014998",
   "metadata": {},
   "outputs": [
    {
     "data": {
      "text/plain": [
       "0.12875482986414052"
      ]
     },
     "execution_count": 160,
     "metadata": {},
     "output_type": "execute_result"
    }
   ],
   "source": [
    "highestLossGain(df_HST)"
   ]
  },
  {
   "cell_type": "code",
   "execution_count": 162,
   "id": "55d7d0e3-570c-46a7-b7d3-0696b1df2d70",
   "metadata": {},
   "outputs": [
    {
     "data": {
      "text/plain": [
       "0.12111748818365953"
      ]
     },
     "execution_count": 162,
     "metadata": {},
     "output_type": "execute_result"
    }
   ],
   "source": [
    "highestLossGain(df_SJM)"
   ]
  },
  {
   "cell_type": "code",
   "execution_count": 164,
   "id": "9a35f361-1904-4da9-b3f0-e28c3510ce09",
   "metadata": {},
   "outputs": [
    {
     "data": {
      "text/plain": [
       "0.10583255954566075"
      ]
     },
     "execution_count": 164,
     "metadata": {},
     "output_type": "execute_result"
    }
   ],
   "source": [
    "highestLossGain(df_GIS)"
   ]
  },
  {
   "cell_type": "markdown",
   "id": "735bebbd-a58c-44ee-9f93-974ff835ac86",
   "metadata": {},
   "source": [
    "1.5"
   ]
  },
  {
   "cell_type": "code",
   "execution_count": 182,
   "id": "a7e9ca35-90de-4fc5-ad6e-7477a5e531b5",
   "metadata": {},
   "outputs": [],
   "source": [
    "def averageWeekly(df):\n",
    "    df.set_index(\"Date\")\n",
    "    series = df['Close'].resample('W-MON')\n",
    "\n",
    "    return series"
   ]
  },
  {
   "cell_type": "code",
   "execution_count": null,
   "id": "bbcbd733-4315-4172-adf9-e03f3950fd13",
   "metadata": {},
   "outputs": [],
   "source": [
    "averageWeekly(df_PFE)"
   ]
  },
  {
   "cell_type": "markdown",
   "id": "0b7fa2af-a581-42b6-bada-45282b9cd839",
   "metadata": {},
   "source": [
    "1.6"
   ]
  },
  {
   "cell_type": "code",
   "execution_count": 191,
   "id": "34732420-573b-4bbb-bf08-126e1a09ec5f",
   "metadata": {},
   "outputs": [],
   "source": [
    "def highestReturn(df):\n",
    "    df.set_index(\"Date\")\n",
    "    df[\"Return\"] = df['Close'].pct_change()\n",
    "    idxmax = df[\"Perc_diff\"].idxmax()\n",
    "\n",
    "    return df.loc[idxmax][\"Return\"]"
   ]
  },
  {
   "cell_type": "code",
   "execution_count": 193,
   "id": "be8f4b1c-8542-4723-84ae-6c26d31437c9",
   "metadata": {},
   "outputs": [
    {
     "data": {
      "text/plain": [
       "0.06720535210043876"
      ]
     },
     "execution_count": 193,
     "metadata": {},
     "output_type": "execute_result"
    }
   ],
   "source": [
    "highestReturn(df_PFE)"
   ]
  },
  {
   "cell_type": "code",
   "execution_count": 195,
   "id": "f9e3d90a-9dd2-4d28-b405-8159ca03d69a",
   "metadata": {},
   "outputs": [
    {
     "data": {
      "text/plain": [
       "0.17352841102415795"
      ]
     },
     "execution_count": 195,
     "metadata": {},
     "output_type": "execute_result"
    }
   ],
   "source": [
    "highestReturn(df_CPRT)"
   ]
  },
  {
   "cell_type": "code",
   "execution_count": 197,
   "id": "22165dc0-82c4-4826-b164-02c8d73673c1",
   "metadata": {},
   "outputs": [
    {
     "data": {
      "text/plain": [
       "0.11171126933464248"
      ]
     },
     "execution_count": 197,
     "metadata": {},
     "output_type": "execute_result"
    }
   ],
   "source": [
    "highestReturn(df_HST)"
   ]
  },
  {
   "cell_type": "code",
   "execution_count": 199,
   "id": "c5de5df0-8936-4058-a714-a8a2f0903f74",
   "metadata": {},
   "outputs": [
    {
     "data": {
      "text/plain": [
       "0.04648231308595285"
      ]
     },
     "execution_count": 199,
     "metadata": {},
     "output_type": "execute_result"
    }
   ],
   "source": [
    "highestReturn(df_SJM)"
   ]
  },
  {
   "cell_type": "code",
   "execution_count": 201,
   "id": "8cac57f9-f8a3-477b-a370-4199e39bc17d",
   "metadata": {},
   "outputs": [
    {
     "data": {
      "text/plain": [
       "0.11782938967955991"
      ]
     },
     "execution_count": 201,
     "metadata": {},
     "output_type": "execute_result"
    }
   ],
   "source": [
    "highestReturn(df_GIS)"
   ]
  },
  {
   "cell_type": "markdown",
   "id": "9f8bfda1-d9a9-46a2-8c9c-97595f2b8c1c",
   "metadata": {},
   "source": [
    "The firm with the highest return in the whole period is the CPRT firm"
   ]
  },
  {
   "cell_type": "markdown",
   "id": "90afc383-17c7-46f5-aafb-bf59cafc659f",
   "metadata": {},
   "source": [
    "1.7"
   ]
  },
  {
   "cell_type": "code",
   "execution_count": 235,
   "id": "d4e929e9-4c4e-42d2-a02f-3bb5f5bc1b1e",
   "metadata": {},
   "outputs": [],
   "source": [
    "def volumeThresh(df):\n",
    "    for i in df.index:\n",
    "        if (df.loc[i][\"Volume\"] <= df[\"Volume\"].quantile(.25)):\n",
    "            df.loc[i][\"Volume_class\"] = \"Low\"\n",
    "        elif ( (df.loc[i][\"Volume\"]>df[\"Volume\"].quantile(.25)) & (df.loc[i][\"Volume\"]<=df[\"Volume\"].quantile(.5)) ):\n",
    "            df.loc[i][\"Volume_class\"] = \"Medium\"\n",
    "        elif ((df.loc[i][\"Volume\"]>df[\"Volume\"].quantile(.5))&(df.loc[i][\"Volume\"]<=df[\"Volume\"].quantile(.75))):\n",
    "            df.loc[i][\"Volume_class\"] = \"High\"\n",
    "        elif (df.loc[i][\"Volume\"]>df[\"Volume\"].quantile(.25)):\n",
    "            df.loc[i][\"Volume_class\"] = \"Very High\""
   ]
  },
  {
   "cell_type": "code",
   "execution_count": null,
   "id": "331e5399-fd4d-47b5-ba62-1312e7274585",
   "metadata": {},
   "outputs": [],
   "source": [
    "volumeThresh(df_PFE)"
   ]
  },
  {
   "cell_type": "markdown",
   "id": "cbe4ae27-5d6c-4037-8dbc-3efd4311cf3b",
   "metadata": {},
   "source": [
    "1.8"
   ]
  },
  {
   "cell_type": "code",
   "execution_count": 242,
   "id": "ad04582b-d702-4331-9834-9d216d4005eb",
   "metadata": {},
   "outputs": [
    {
     "data": {
      "text/plain": [
       "<Axes: >"
      ]
     },
     "execution_count": 242,
     "metadata": {},
     "output_type": "execute_result"
    },
    {
     "data": {
      "image/png": "[encoded data removed]",
      "text/plain": [
       "<Figure size 640x480 with 1 Axes>"
      ]
     },
     "metadata": {},
     "output_type": "display_data"
    }
   ],
   "source": [
    "import matplotlib.pyplot as plt\n",
    "df_PFE[\"Return\"].plot()"
   ]
  }
 ],
 "metadata": {
  "kernelspec": {
   "display_name": "Python 3 (ipykernel)",
   "language": "python",
   "name": "python3"
  },
  "language_info": {
   "codemirror_mode": {
    "name": "ipython",
    "version": 3
   },
   "file_extension": ".py",
   "mimetype": "text/x-python",
   "name": "python",
   "nbconvert_exporter": "python",
   "pygments_lexer": "ipython3",
   "version": "3.12.4"
  }
 },
 "nbformat": 4,
 "nbformat_minor": 5
}
